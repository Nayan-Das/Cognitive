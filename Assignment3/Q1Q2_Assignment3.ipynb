{
 "cells": [
  {
   "cell_type": "code",
   "execution_count": 1,
   "metadata": {},
   "outputs": [],
   "source": [
    "import urllib\n",
    "import math\n",
    "import time\n",
    "def queryGoogleNumPages(query):\n",
    "    offset = 23;\n",
    "    user_agent = 'Mozilla/5.0 (Windows; U; Windows NT 5.1; en-US; rv:1.9.0.7)Firefox/3.0.7'\n",
    "    #query = \"hello\"\n",
    "    url = \"http://www.google.co.in/search?q=\"+ query\n",
    "    headers={'User-Agent':user_agent,} \n",
    "\n",
    "    request=urllib.request.Request(url,None,headers) #The assembled request\n",
    "    response = urllib.request.urlopen(request)\n",
    "    data = str(response.read())\n",
    "    #print(\"data\",type(data))\n",
    "    sIdx = data.find('id=\"resultStats\"')\n",
    "    eIdx = data[sIdx:].find(' results')\n",
    "    rstring = data[sIdx+offset:sIdx+eIdx]\n",
    "    out = math.log(float(rstring.replace(',','')))\n",
    "    #print(\"out\",rstring,float(rstring.replace(',','')))\n",
    "    time.sleep(1)              \n",
    "    return out"
   ]
  },
  {
   "cell_type": "code",
   "execution_count": 2,
   "metadata": {},
   "outputs": [
    {
     "data": {
      "text/plain": [
       "23.952883758346513"
      ]
     },
     "execution_count": 2,
     "metadata": {},
     "output_type": "execute_result"
    }
   ],
   "source": [
    "#queryGoogleNumPages(\"the\")"
   ]
  },
  {
   "cell_type": "code",
   "execution_count": 22,
   "metadata": {},
   "outputs": [],
   "source": [
    "def computeNGD(a,b):\n",
    "    #no_of_webpage = math.log2(77270000000000) \n",
    "    no_of_webpage = math.log(48000000000)\n",
    "    noa = queryGoogleNumPages(a)\n",
    "    nob = queryGoogleNumPages(b)\n",
    "    noab = queryGoogleNumPages(a+\"+\"+b);\n",
    "    #print(max(la,lb),lab)\n",
    "    #print(no_of_webpage , min(la,lb))\n",
    "    NGD = (max(noa,nob) - noab)/(no_of_webpage - min(noa,nob));\n",
    "    #print(\"NGD\",NGD)\n",
    "    return NGD\n",
    "    "
   ]
  },
  {
   "cell_type": "code",
   "execution_count": 23,
   "metadata": {},
   "outputs": [
    {
     "data": {
      "text/plain": [
       "0.06389569198955265"
      ]
     },
     "execution_count": 23,
     "metadata": {},
     "output_type": "execute_result"
    }
   ],
   "source": [
    "computeNGD(\"tiger\",\"tiger\")\n"
   ]
  },
  {
   "cell_type": "code",
   "execution_count": 27,
   "metadata": {},
   "outputs": [
    {
     "name": "stdout",
     "output_type": "stream",
     "text": [
      "0\n",
      "50\n",
      "100\n",
      "150\n",
      "200\n",
      "250\n",
      "300\n",
      "350\n",
      "352\n"
     ]
    }
   ],
   "source": [
    "import pandas as pd\n",
    "df = pd.read_csv(\"combined.csv\")\n",
    "word1=df['Word 1']\n",
    "word2=df['Word 2']\n",
    "NGD_Score=[]\n",
    "for i in range(353):\n",
    "    cngd=computeNGD(word1[i],word2[i])\n",
    "    #print(word1[i],word2[i],cngd)\n",
    "    NGD_Score.append(cngd)\n",
    "    if i%50 ==0 or i==352:\n",
    "        print(i)\n",
    "    \n",
    "df['NGD'] = NGD_Score\n",
    "df.to_csv(\"result.csv\")"
   ]
  },
  {
   "cell_type": "code",
   "execution_count": 28,
   "metadata": {},
   "outputs": [
    {
     "data": {
      "text/plain": [
       "1.3812502109771"
      ]
     },
     "execution_count": 28,
     "metadata": {},
     "output_type": "execute_result"
    }
   ],
   "source": [
    "## Question 2\n",
    "#max(NGD_Score)"
   ]
  },
  {
   "cell_type": "code",
   "execution_count": 29,
   "metadata": {},
   "outputs": [],
   "source": [
    "df2 = pd.read_csv(\"result.csv\")\n",
    "human=df2['Human (mean)'].values\n",
    "NGD=df2['NGD'].values\n",
    "NGD = [((x -min(NGD))/(max(NGD)-min(NGD)))*10 for x in NGD]\n",
    "human=[10-x for x in human]\n"
   ]
  },
  {
   "cell_type": "code",
   "execution_count": 30,
   "metadata": {},
   "outputs": [
    {
     "data": {
      "image/png": "[encoded data removed]",
      "text/plain": [
       "<Figure size 432x288 with 1 Axes>"
      ]
     },
     "metadata": {
      "needs_background": "light"
     },
     "output_type": "display_data"
    }
   ],
   "source": [
    "%matplotlib inline\n",
    "import matplotlib.pyplot as plt\n",
    "plt.scatter(human,NGD, marker='o')\n",
    "plt.xlabel('Human')\n",
    "plt.ylabel('Scaled NGD')\n",
    "plt.title(\"Human similarity VS NGD\")\n",
    "plt.savefig('ngd.png')\n",
    "plt.show()"
   ]
  },
  {
   "cell_type": "code",
   "execution_count": null,
   "metadata": {},
   "outputs": [],
   "source": []
  }
 ],
 "metadata": {
  "kernelspec": {
   "display_name": "Python 3",
   "language": "python",
   "name": "python3"
  },
  "language_info": {
   "codemirror_mode": {
    "name": "ipython",
    "version": 3
   },
   "file_extension": ".py",
   "mimetype": "text/x-python",
   "name": "python",
   "nbconvert_exporter": "python",
   "pygments_lexer": "ipython3",
   "version": "3.7.1"
  }
 },
 "nbformat": 4,
 "nbformat_minor": 2
}
