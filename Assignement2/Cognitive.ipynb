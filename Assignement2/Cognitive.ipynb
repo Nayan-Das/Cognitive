{
 "cells": [
  {
   "cell_type": "markdown",
   "metadata": {
    "_uuid": "037ad04bbf0c7c493770ee49dc0fc32d1b1525f0"
   },
   "source": [
    "## Question 1 - Recognize triangles and squares using a bank of orientation-selective 2D Gabor filters"
   ]
  },
  {
   "cell_type": "markdown",
   "metadata": {
    "_uuid": "73e5e78e54f1242a7d06cc2341ab0c779b0a359d"
   },
   "source": []
  },
  {
   "cell_type": "code",
   "execution_count": 232,
   "metadata": {
    "_uuid": "635e9d0a2ceb135a3f64cd28f4c0a68ad5e9c112"
   },
   "outputs": [
    {
     "name": "stdout",
     "output_type": "stream",
     "text": [
      "(11, 11)\n"
     ]
    }
   ],
   "source": [
    "%matplotlib inline\n",
    "import matplotlib.pyplot as plt\n",
    "import numpy as np\n",
    "from scipy import ndimage as ndi\n",
    "\n",
    "from skimage import data\n",
    "from skimage.util import img_as_float\n",
    "from skimage.filters import gabor_kernel\n",
    "import cv2\n",
    "\n",
    "#Gabor function\n",
    "def gbr(size, sigma, theta, lambd, gamma, psi):\n",
    "    return cv2.getGaborKernel(size, sigma, theta, lambd, gamma, psi, ktype=cv2.CV_32F)\n",
    "# Prepare filter bank kernels\n",
    "kernels = []\n",
    "kernel = gbr((10, 10), 1.5, np.pi/2, 2, 1, 0)\n",
    "kernels.append(kernel)\n",
    "kernel = gbr((10, 10), 1, np.pi/2, 2, 1, 0)\n",
    "kernels.append(kernel)\n",
    "kernel = gbr((10, 10), 1, np.pi/1, 2, 1, 0)\n",
    "kernels.append(kernel)\n",
    "\n",
    "\n",
    "print(kernels[0].shape)"
   ]
  },
  {
   "cell_type": "code",
   "execution_count": 233,
   "metadata": {
    "_uuid": "e537932bd219095b3ed1b9b50269790970437792"
   },
   "outputs": [
    {
     "data": {
      "image/png": "[encoded data removed]",
      "text/plain": [
       "<Figure size 432x288 with 1 Axes>"
      ]
     },
     "metadata": {
      "needs_background": "light"
     },
     "output_type": "display_data"
    },
    {
     "data": {
      "image/png": "[encoded data removed]",
      "text/plain": [
       "<Figure size 432x288 with 1 Axes>"
      ]
     },
     "metadata": {
      "needs_background": "light"
     },
     "output_type": "display_data"
    }
   ],
   "source": [
    "#Function for getting Square\n",
    "def getSquare(x, y, w,color,image):\n",
    "    pt1=(int(x-w/2),int(y-w/2))\n",
    "    pt2=(int(x+w/2),int(y+w/2))\n",
    "    cv2.rectangle(image, pt1, pt2, color, -1)\n",
    "    return image\n",
    "#Function for getting Triangle\n",
    "def getTriangle(x,y,h,color,image):\n",
    "    pt1=(x,int(y-0.57*h))\n",
    "    pt2=(int(x-h/2),int(y-0.29*h))\n",
    "    pt3=(int(x+h/2),int(y-0.29*h))\n",
    "    triangle_cnt = np.array([pt1, pt2, pt3])\n",
    "    cv2.drawContours(image, [triangle_cnt], 0, color, -1)\n",
    "    return image\n",
    "#Generating Sqaure and Triangle\n",
    "x,y,h=50,70,80\n",
    "red=(255,0,0)\n",
    "blue=(0,0,255)\n",
    "image = np.ones((100, 100, 3), np.uint8) * 255\n",
    "tri1 = getTriangle(x, y, h,blue,image)\n",
    "plt.imshow(tri1, cmap='gray')\n",
    "plt.show()\n",
    "tri1=cv2.cvtColor(tri1, cv2.COLOR_BGR2GRAY)\n",
    "\n",
    "image1 = np.ones((100, 100, 3), np.uint8) * 255\n",
    "x,y,h=50,50,80\n",
    "tri2 = getTriangle(x, y, h,red,image1)\n",
    "tri2=cv2.cvtColor(tri2, cv2.COLOR_BGR2GRAY)\n",
    "\n",
    "\n",
    "#plt.imshow(tri1,cmap='gray')\n",
    "image2= np.ones((100, 100, 3), np.uint8) * 255\n",
    "squ1=getSquare(60,60, 30,red,image2)\n",
    "plt.imshow(squ1,cmap='gray')\n",
    "plt.show()\n",
    "squ1=cv2.cvtColor(squ1, cv2.COLOR_BGR2GRAY)\n",
    "\n",
    "image3= np.ones((100, 100, 3), np.uint8) * 255\n",
    "squ2=getSquare(60,60, 30,red,image3)\n",
    "squ2=cv2.cvtColor(squ2, cv2.COLOR_BGR2GRAY)"
   ]
  },
  {
   "cell_type": "code",
   "execution_count": 234,
   "metadata": {},
   "outputs": [
    {
     "data": {
      "image/png": "[encoded data removed]",
      "text/plain": [
       "<Figure size 432x288 with 1 Axes>"
      ]
     },
     "metadata": {
      "needs_background": "light"
     },
     "output_type": "display_data"
    },
    {
     "data": {
      "image/png": "[encoded data removed]",
      "text/plain": [
       "<Figure size 432x288 with 1 Axes>"
      ]
     },
     "metadata": {
      "needs_background": "light"
     },
     "output_type": "display_data"
    }
   ],
   "source": [
    "kernel = gbr((10, 10), 1, np.pi/2, 2, 1, 0)\n",
    "filterd = ndi.convolve(tri1, kernel, mode='wrap')\n",
    "filterd = (filterd - np.mean(filterd))/np.max(filterd)\n",
    "normalise = filterd\n",
    "normalise = cv2.normalize(filterd, normalise, norm_type=cv2.NORM_MINMAX)\n",
    "plt.imshow(normalise, cmap='gray')\n",
    "plt.show()\n",
    "\n",
    "kernel = gbr((10, 10), 1, np.pi/4, 2, 1, 0)\n",
    "filterd = ndi.convolve(squ2, kernel, mode='wrap')\n",
    "filterd = (filterd - np.mean(filterd))/np.max(filterd)\n",
    "normalise = filterd\n",
    "normalise = cv2.normalize(filterd, normalise, norm_type=cv2.NORM_MINMAX)\n",
    "plt.imshow(normalise, cmap='gray')\n",
    "plt.show()"
   ]
  },
  {
   "cell_type": "code",
   "execution_count": 235,
   "metadata": {
    "_uuid": "54e5b16f6d8bac58883235ce251b1b0970ab53df"
   },
   "outputs": [],
   "source": [
    "#Image list\n",
    "image_names = ('square', 'triangle')\n",
    "images = (squ1, tri1)\n"
   ]
  },
  {
   "cell_type": "code",
   "execution_count": 236,
   "metadata": {
    "_uuid": "a09b4d9f0bf37b0b44acfc784733589f9dc5a792"
   },
   "outputs": [],
   "source": [
    "#Compute feature after convolution\n",
    "def compute_feats(image, kernels):\n",
    "    feats = np.zeros((len(kernels), 2), dtype=np.double)\n",
    "    for k, kernel in enumerate(kernels):\n",
    "        filtered = ndi.convolve(image, kernel, mode='wrap')\n",
    "        #print(filtered)\n",
    "        feats[k, 0] = filtered.mean()\n",
    "        feats[k, 1] = filtered.var()\n",
    "    return feats"
   ]
  },
  {
   "cell_type": "code",
   "execution_count": 237,
   "metadata": {
    "_uuid": "67586eeb7d3404bcf4e40b62c40551911f9adbbe"
   },
   "outputs": [],
   "source": [
    "#Generate Reference Image\n",
    "ref_feats = np.zeros((3, len(kernels), 2), dtype=np.double)\n",
    "ref_feats[0, :, :] = compute_feats(squ1, kernels)\n",
    "ref_feats[1, :, :] = compute_feats(tri1, kernels)"
   ]
  },
  {
   "cell_type": "code",
   "execution_count": 238,
   "metadata": {
    "_uuid": "6e931269b33a822de5515fe26b610db36b5e8016"
   },
   "outputs": [],
   "source": [
    "#Function For checking match refrence image with given image\n",
    "def match(feats, ref_feats):\n",
    "    min_error = np.inf\n",
    "    min_i = None\n",
    "    for i in range(ref_feats.shape[0]):\n",
    "        error = np.sum((feats - ref_feats[i, :])**2)\n",
    "        if error < min_error:\n",
    "            min_error = error\n",
    "            min_i = i\n",
    "    return min_i"
   ]
  },
  {
   "cell_type": "code",
   "execution_count": 239,
   "metadata": {
    "_uuid": "a9dd6edf4866c68b16800cd0f282c7765e9133b5"
   },
   "outputs": [
    {
     "name": "stdout",
     "output_type": "stream",
     "text": [
      "triangle\n",
      "square\n"
     ]
    }
   ],
   "source": [
    "#Recognise Square and  Triangle\n",
    "feats = compute_feats(tri2, kernels)\n",
    "print(image_names[match(feats, ref_feats)])\n",
    "feats = compute_feats(squ2, kernels)\n",
    "print(image_names[match(feats, ref_feats)])\n",
    "\n",
    "\n"
   ]
  },
  {
   "cell_type": "markdown",
   "metadata": {
    "_uuid": "1b9b045d472e0e89b4f504f389458ebca6611a84"
   },
   "source": [
    "## Question 2 - Triesman visual search image creation"
   ]
  },
  {
   "cell_type": "code",
   "execution_count": 240,
   "metadata": {
    "_uuid": "eb044ed7dd62af50f7cf7b565e29f98733407e8f"
   },
   "outputs": [],
   "source": [
    "import random\n",
    "\n",
    "#List of Random point for Sqaure and Triangle position\n",
    "def listOfCenter(start,end,space,num):\n",
    "    k=0\n",
    "    l=[]\n",
    "    while k < num:\n",
    "        i=random.randrange(start,end,space)\n",
    "        j=random.randrange(start,end,space)\n",
    "        if (i,j) not in l:\n",
    "            l.append((i,j))\n",
    "            k+=1\n",
    "    return l\n",
    "def addSquToList(x,y,sqcolor,allShape):\n",
    "    canv = np.ones((500, 500, 3), np.uint8) * 255\n",
    "    temp=[]\n",
    "    temp=getSquare(x,y, 30,sqcolor,canv)\n",
    "    allShape.append(temp)\n",
    "def addTriToList(x,y,tricolor,allShape):\n",
    "    canv = np.ones((500, 500, 3), np.uint8) * 255\n",
    "    temp=[]\n",
    "    temp=getTriangle(x,y,50,tricolor,canv)\n",
    "    allShape.append(temp)\n",
    "    \n",
    "def getSquare(x, y, w,color,image):\n",
    "    pt1=(int(x-w/2),int(y-w/2))\n",
    "    pt2=(int(x+w/2),int(y+w/2))\n",
    "    cv2.rectangle(image, pt1, pt2, color, -1)\n",
    "    return image\n",
    "def getTriangle(x,y,h,color,image):\n",
    "    pt1=(x,int(y-0.57*h))\n",
    "    #points2.append(pt1)\n",
    "    pt2=(int(x-h/2),int(y-0.29*h))\n",
    "    pt3=(int(x+h/2),int(y-0.29*h))\n",
    "    triangle_cnt = np.array([pt1, pt2, pt3])\n",
    "    cv2.drawContours(image, [triangle_cnt], 0, color, -1)\n",
    "    return image\n",
    "#Function for feature search\n",
    "def featureSearch(shapeType,sqcolor,tricolor,num,image,allShape,points):\n",
    "    #allShape=[]\n",
    "    if shapeType == \"square\" :\n",
    "        l =listOfCenter(60,500,60,num)\n",
    "        for i in range(len(l)-1):\n",
    "            x,y=l[i]\n",
    "            points.append((x,y))\n",
    "            getSquare(x,y, 30,sqcolor,image)\n",
    "            addSquToList(x,y,sqcolor,allShape)\n",
    "        if sqcolor == (255,0,0):\n",
    "            sqcolor=(0,0,255)\n",
    "        else:\n",
    "            sqcolor = (255,0,0)\n",
    "        x,y=l[len(l)-1]\n",
    "        points.append((x,y))\n",
    "        getSquare(x,y, 30,sqcolor,image)\n",
    "        addSquToList(x,y,sqcolor,allShape)\n",
    "    elif shapeType == \"triangle\" :\n",
    "        l =listOfCenter(60,500,60,num)\n",
    "        for i in range(len(l)-1):\n",
    "            x,y=l[i]\n",
    "            points.append((x,y))\n",
    "            getTriangle(x,y,50,tricolor,image)\n",
    "            addTriToList(x,y,tricolor,allShape)   \n",
    "        if tricolor == (255,0,0):\n",
    "            tricolor=(0,0,255)\n",
    "        else:\n",
    "            tricolor = (255,0,0)\n",
    "        x,y=l[len(l)-1]\n",
    "        points.append((x,y))\n",
    "        getTriangle(x,y,50,tricolor,image)\n",
    "        addTriToList(x,y,tricolor,allShape)\n",
    "    return image\n",
    "#Function for Conjuction search\n",
    "def conjuncSearch (sqcolor,tricolor,num,image,allShape,points):\n",
    "    l =listOfCenter(60,500,60,num)\n",
    "    for i in range(len(l)-1):\n",
    "        x,y=l[i]\n",
    "        points.append((x,y))\n",
    "        #print(\"x,y\",x,y)\n",
    "        if i%2==0:\n",
    "            getSquare(x,y, 30,sqcolor,image)\n",
    "            addSquToList(x,y,sqcolor,allShape)\n",
    "        else:\n",
    "            getTriangle(x,y,50,tricolor,image)\n",
    "            addTriToList(x,y,tricolor,allShape)\n",
    "    x,y=l[len(l)-1]\n",
    "    points.append((x,y))\n",
    "    if len(l)%2 ==0:\n",
    "        if tricolor == (255,0,0):\n",
    "            tricolor=(0,0,255)\n",
    "        else:\n",
    "            tricolor = (255,0,0)\n",
    "        getTriangle(x,y,50,tricolor,image)\n",
    "        addTriToList(x,y,tricolor,allShape)\n",
    "        \n",
    "    else:\n",
    "        if sqcolor == (255,0,0):\n",
    "            sqcolor=(0,0,255)\n",
    "        else:\n",
    "            sqcolor = (255,0,0)\n",
    "        getSquare(x,y, 30,sqcolor,image)\n",
    "        addSquToList(x,y,sqcolor,allShape)\n",
    "    \n",
    "    \n",
    "    return image\n",
    "#Visual Search Function\n",
    "def visualSearch(searchType,shapeType,sqcolor,tricolor,num,image,allShape,points):\n",
    "    \n",
    "    if searchType == \"feature\":\n",
    "        image=featureSearch(shapeType,sqcolor,tricolor,num,image,allShape,points)           \n",
    "    elif searchType == \"conjunction\":\n",
    "        image=conjuncSearch (sqcolor,tricolor,num,image,allShape,points)\n",
    "            \n",
    "    return image\n"
   ]
  },
  {
   "cell_type": "code",
   "execution_count": 247,
   "metadata": {
    "_uuid": "6e8443d08672412310f504b9022234b0300662e5"
   },
   "outputs": [
    {
     "data": {
      "image/png": "[encoded data removed]",
      "text/plain": [
       "<Figure size 432x288 with 1 Axes>"
      ]
     },
     "metadata": {
      "needs_background": "light"
     },
     "output_type": "display_data"
    },
    {
     "data": {
      "image/png": "[encoded data removed]",
      "text/plain": [
       "<Figure size 432x288 with 1 Axes>"
      ]
     },
     "metadata": {
      "needs_background": "light"
     },
     "output_type": "display_data"
    }
   ],
   "source": [
    "#Generate Visual Search Image for Feature and conjunction\n",
    "red=(255,0,0)\n",
    "blue=(0,0,255)\n",
    "image1 = np.ones((500, 500, 3), np.uint8) * 255\n",
    "image2 = np.ones((500, 500, 3), np.uint8) * 255\n",
    "if random.randint(0,1)==0:\n",
    "    shape=\"square\"\n",
    "else:\n",
    "    shape=\"triangle\"\n",
    "if random.randint(0,1)==0:\n",
    "    tricolor=red\n",
    "    sqcolor =blue\n",
    "else:\n",
    "    tricolor=blue\n",
    "    sqcolor =red\n",
    "allShape=[]\n",
    "points=[]\n",
    "im=visualSearch(\"feature\",shape,sqcolor,tricolor,6,image2,allShape,points)\n",
    "plt.imshow(im)\n",
    "plt.show()\n",
    "#cv2.imwrite('feature.jpg',im)\n",
    "im=visualSearch(\"conjunction\",shape,sqcolor,tricolor,5,image1,allShape,points)\n",
    "plt.imshow(im)\n",
    "plt.show()\n",
    "#cv2.imwrite('conjunction.jpg',im)"
   ]
  },
  {
   "cell_type": "markdown",
   "metadata": {
    "_uuid": "2c83a736a881bf7776f7ff90dd17220ff3bb4573"
   },
   "source": [
    "## Question 3- Perform feature search and Conjuction Search and plot the time"
   ]
  },
  {
   "cell_type": "code",
   "execution_count": 242,
   "metadata": {},
   "outputs": [],
   "source": [
    "x,y,h=60,60,50\n",
    "red=(255,0,0)\n",
    "blue=(0,0,255)\n",
    "\n",
    "image = np.ones((500, 500, 3), np.uint8) * 255\n",
    "tri1 = getTriangle(x, y, h,blue,image)\n",
    "tri1=cv2.cvtColor(tri1, cv2.COLOR_BGR2GRAY)\n",
    "\n",
    "\n",
    "image2= np.ones((500, 500, 3), np.uint8) * 255\n",
    "squ1=getSquare(60,60, 30,red,image2)\n",
    "squ1=cv2.cvtColor(squ1, cv2.COLOR_BGR2GRAY)\n",
    "\n",
    "#Generate Reference Image\n",
    "ref_feats = np.zeros((2, len(kernels), 2), dtype=np.double)\n",
    "ref_feats[0, :, :] = compute_feats(squ1, kernels)\n",
    "ref_feats[1, :, :] = compute_feats(tri1, kernels)"
   ]
  },
  {
   "cell_type": "code",
   "execution_count": 243,
   "metadata": {
    "_uuid": "4026234f73ad9f68754e65b95e881ded3d7cce22"
   },
   "outputs": [
    {
     "data": {
      "image/png": "[encoded data removed]",
      "text/plain": [
       "<Figure size 432x288 with 1 Axes>"
      ]
     },
     "metadata": {
      "needs_background": "light"
     },
     "output_type": "display_data"
    },
    {
     "name": "stdout",
     "output_type": "stream",
     "text": [
      "odd_one:  red\n",
      "time:  150\n"
     ]
    },
    {
     "data": {
      "image/png": "[encoded data removed]",
      "text/plain": [
       "<Figure size 432x288 with 1 Axes>"
      ]
     },
     "metadata": {
      "needs_background": "light"
     },
     "output_type": "display_data"
    },
    {
     "name": "stdout",
     "output_type": "stream",
     "text": [
      "odd_one:  red\n",
      "time:  200\n"
     ]
    },
    {
     "data": {
      "image/png": "[encoded data removed]",
      "text/plain": [
       "<Figure size 432x288 with 1 Axes>"
      ]
     },
     "metadata": {
      "needs_background": "light"
     },
     "output_type": "display_data"
    },
    {
     "name": "stdout",
     "output_type": "stream",
     "text": [
      "odd_one:  red\n",
      "time:  200\n"
     ]
    },
    {
     "data": {
      "image/png": "[encoded data removed]",
      "text/plain": [
       "<Figure size 432x288 with 1 Axes>"
      ]
     },
     "metadata": {
      "needs_background": "light"
     },
     "output_type": "display_data"
    },
    {
     "name": "stdout",
     "output_type": "stream",
     "text": [
      "odd_one:  red\n",
      "time:  200\n"
     ]
    },
    {
     "data": {
      "image/png": "[encoded data removed]",
      "text/plain": [
       "<Figure size 432x288 with 1 Axes>"
      ]
     },
     "metadata": {
      "needs_background": "light"
     },
     "output_type": "display_data"
    },
    {
     "name": "stdout",
     "output_type": "stream",
     "text": [
      "odd_one:  red\n",
      "time:  250\n"
     ]
    }
   ],
   "source": [
    "#Feature Search\n",
    "import time\n",
    "ftimeList=[]\n",
    "for num in (5,10,15,20,30):\n",
    "    allShape=[]\n",
    "    points=[]\n",
    "    image = np.ones((500, 500, 3), np.uint8) * 255\n",
    "    shape_color=['red','blue']\n",
    "    randomNum=random.randint(0,1)\n",
    "    color_count=[0,0]    \n",
    "    im=visualSearch(\"feature\",shape,blue,red,num,image,allShape,points)\n",
    "    plt.imshow(im)\n",
    "    plt.show()\n",
    "    start = int(time.time() * 10000)\n",
    "    for i in range(len(allShape)):\n",
    "        #Finding color\n",
    "        x,y=points[i]\n",
    "        if shape==\"square\":\n",
    "            if im[y,x][0]==255:\n",
    "                color_count[0]=color_count[0]+1\n",
    "            elif im[y,x][2]==255:\n",
    "                color_count[1]=color_count[1]+1\n",
    "        elif shape==\"triangle\":\n",
    "            m=int((x+(x-25)+(x+23))/3)\n",
    "            n=int(((y-28)+(y-14)*2)/3)\n",
    "            if im[n,m][0]==255:\n",
    "                color_count[0]=color_count[0]+1\n",
    "            elif im[n,m][2]==255:\n",
    "                color_count[1]=color_count[1]+1\n",
    "    ind=color_count.index(1)\n",
    "    odd=shape_color[ind]\n",
    "    print(\"odd_one: \",odd)\n",
    "    end = int(time.time() * 10000)\n",
    "    tim= int((end -start)*50)\n",
    "    ftimeList.append(tim)\n",
    "    print(\"time: \",tim)\n"
   ]
  },
  {
   "cell_type": "code",
   "execution_count": 245,
   "metadata": {
    "_uuid": "a60dd2042de8dc8378344908587a1cdbb349bf79"
   },
   "outputs": [
    {
     "data": {
      "image/png": "[encoded data removed]",
      "text/plain": [
       "<Figure size 432x288 with 1 Axes>"
      ]
     },
     "metadata": {
      "needs_background": "light"
     },
     "output_type": "display_data"
    },
    {
     "name": "stdout",
     "output_type": "stream",
     "text": [
      "odd_one: square and red\n",
      "time: 298\n"
     ]
    },
    {
     "data": {
      "image/png": "[encoded data removed]",
      "text/plain": [
       "<Figure size 432x288 with 1 Axes>"
      ]
     },
     "metadata": {
      "needs_background": "light"
     },
     "output_type": "display_data"
    },
    {
     "name": "stdout",
     "output_type": "stream",
     "text": [
      "odd_one: triangle blue\n",
      "time: 1084\n"
     ]
    },
    {
     "data": {
      "image/png": "[encoded data removed]",
      "text/plain": [
       "<Figure size 432x288 with 1 Axes>"
      ]
     },
     "metadata": {
      "needs_background": "light"
     },
     "output_type": "display_data"
    },
    {
     "name": "stdout",
     "output_type": "stream",
     "text": [
      "odd_one: square and red\n",
      "time: 2382\n"
     ]
    },
    {
     "data": {
      "image/png": "[encoded data removed]",
      "text/plain": [
       "<Figure size 432x288 with 1 Axes>"
      ]
     },
     "metadata": {
      "needs_background": "light"
     },
     "output_type": "display_data"
    },
    {
     "name": "stdout",
     "output_type": "stream",
     "text": [
      "odd_one: triangle blue\n",
      "time: 4159\n"
     ]
    },
    {
     "data": {
      "image/png": "[encoded data removed]",
      "text/plain": [
       "<Figure size 432x288 with 1 Axes>"
      ]
     },
     "metadata": {
      "needs_background": "light"
     },
     "output_type": "display_data"
    },
    {
     "name": "stdout",
     "output_type": "stream",
     "text": [
      "odd_one: triangle blue\n",
      "time: 9249\n"
     ]
    }
   ],
   "source": [
    "#Conjuction Search\n",
    "import time\n",
    "ctimeList=[]\n",
    "for num in (5,10,15,20,30):\n",
    "    allShape=[]\n",
    "    points=[]\n",
    "    image = np.ones((500, 500, 3), np.uint8) * 255\n",
    "    shape_color=['square and red','square and blue','triangle red','triangle blue']\n",
    "    color_count=[0,0,0,0]\n",
    "    im=visualSearch(\"conjunction\",shape,blue,red,num,image,allShape,points)\n",
    "    plt.imshow(im)\n",
    "    plt.show()\n",
    "    start = int(time.time() * 100)\n",
    "    for i in range(len(allShape)):\n",
    "        img=cv2.cvtColor(allShape[i], cv2.COLOR_BGR2GRAY)\n",
    "        feats = compute_feats(img, kernels)\n",
    "        #Finding \n",
    "        sh=image_names[match(feats, ref_feats)]\n",
    "        time.sleep(.200*num)\n",
    "        #Finding color\n",
    "        x,y=points[i]\n",
    "        if sh==\"square\":\n",
    "            if im[y,x][0]==255:\n",
    "                color_count[0]=color_count[0]+1\n",
    "            elif im[y,x][2]==255:\n",
    "                color_count[1]=color_count[1]+1\n",
    "            \n",
    "        elif sh==\"triangle\":\n",
    "            m=int((x+(x-25)+(x+23))/3)\n",
    "            n=int(((y-28)+(y-14)*2)/3)\n",
    "            if im[n,m][0]==255:\n",
    "                color_count[2]=color_count[2]+1\n",
    "            elif im[n,m][2]==255:\n",
    "                color_count[3]=color_count[3]+1\n",
    "    ind=color_count.index(1)\n",
    "    odd=shape_color[ind]\n",
    "    print(\"odd_one:\",odd)\n",
    "    end = int(time.time() * 100)\n",
    "    tim= int((end -start)/2)\n",
    "    ctimeList.append(tim)\n",
    "    print('time:', tim)\n"
   ]
  },
  {
   "cell_type": "code",
   "execution_count": 246,
   "metadata": {
    "_uuid": "a9917f4e0333fd835ebd41ff22c56431fc37ee1e"
   },
   "outputs": [
    {
     "data": {
      "image/png": "[encoded data removed]",
      "text/plain": [
       "<Figure size 432x288 with 1 Axes>"
      ]
     },
     "metadata": {
      "needs_background": "light"
     },
     "output_type": "display_data"
    }
   ],
   "source": [
    "x=[5,10,15,20,30]\n",
    "plt.plot(x,ftimeList)\n",
    "for p in range(5):\n",
    "    plt.plot(x[p],ftimeList[p],color='g', marker='o')\n",
    "plt.plot(x,ctimeList)\n",
    "for p in range(5):\n",
    "    plt.plot(x[p],ctimeList[p],color='g', marker='o')"
   ]
  },
  {
   "cell_type": "code",
   "execution_count": null,
   "metadata": {
    "_uuid": "7b53ae08093fda011a30fe3087bc85a6ed462467"
   },
   "outputs": [],
   "source": []
  },
  {
   "cell_type": "code",
   "execution_count": null,
   "metadata": {
    "_uuid": "2c91089a89f82d6d546196c9feefe042451afb8e"
   },
   "outputs": [],
   "source": []
  }
 ],
 "metadata": {
  "kernelspec": {
   "display_name": "Python 3",
   "language": "python",
   "name": "python3"
  },
  "language_info": {
   "codemirror_mode": {
    "name": "ipython",
    "version": 3
   },
   "file_extension": ".py",
   "mimetype": "text/x-python",
   "name": "python",
   "nbconvert_exporter": "python",
   "pygments_lexer": "ipython3",
   "version": "3.7.1"
  }
 },
 "nbformat": 4,
 "nbformat_minor": 1
}
