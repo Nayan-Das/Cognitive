{
 "cells": [
  {
   "cell_type": "markdown",
   "metadata": {
    "_uuid": "879f5a7db8b18ec73a863a4e9e1b9e8195d725c6"
   },
   "source": [
    "##  (a) Takiing any three variable Boolean function as input and genarating the truth table"
   ]
  },
  {
   "cell_type": "code",
   "execution_count": 1,
   "metadata": {
    "_uuid": "d9e29f235321bafcf8b927ebcebb8bd5a4e13a85"
   },
   "outputs": [],
   "source": [
    "import numpy as np\n",
    "truth_table=[]\n",
    "for p in False, True:\n",
    "    for q in False, True:\n",
    "        for r in False, True:\n",
    "            truth_table.append([int(p),int(q), int(r)])"
   ]
  },
  {
   "cell_type": "markdown",
   "metadata": {
    "_uuid": "787bde9eb092accc2389dc695f68a7b35c0f1474"
   },
   "source": [
    "## b)Generating five boolean function"
   ]
  },
  {
   "cell_type": "code",
   "execution_count": 2,
   "metadata": {
    "_uuid": "cbd5309f83f9e01f2c2bd71f8860f2f138c69960"
   },
   "outputs": [],
   "source": [
    "l=len(truth_table)\n",
    "y_or=[]\n",
    "y_and=[]\n",
    "y_xor=[]\n",
    "y_nand=[]\n",
    "y_nor=[]\n",
    "y_list=[]\n",
    "for i in range(l):\n",
    "    yt1=truth_table[i][0] or truth_table[i][1]or truth_table[i][2]\n",
    "    yt2=truth_table[i][0] and truth_table[i][1] and truth_table[i][2]\n",
    "    yt3=truth_table[i][0] ^ truth_table[i][1] ^ truth_table[i][2]\n",
    "    yt4=not yt2\n",
    "    yt5=not yt1\n",
    "    y_or.append(yt1)\n",
    "    y_and.append(yt2)\n",
    "    y_xor.append(yt3)\n",
    "    y_nand.append(yt4)\n",
    "    y_nor.append(yt5)\n",
    "y_or=np.array(y_or)\n",
    "y_and=np.array(y_and)\n",
    "y_xor=np.array(y_xor)\n",
    "y_nand=np.array(y_nand)\n",
    "y_nor=np.array(y_nor)\n",
    "y_list.append(y_or)\n",
    "y_list.append(y_and)\n",
    "y_list.append(y_xor)\n",
    "y_list.append(y_nand)\n",
    "y_list.append(y_nor)\n",
    "fn_list=[\"OR\",\"AND\",\"XOR\",\"NAND\",\"NOR\"]"
   ]
  },
  {
   "cell_type": "markdown",
   "metadata": {
    "_uuid": "d576f968de6dd8e2b2d4272bc4edb7ae59e47ff1"
   },
   "source": [
    "## Different Activation Function"
   ]
  },
  {
   "cell_type": "code",
   "execution_count": 3,
   "metadata": {
    "_uuid": "088cf66d7044d73ee498559ca0190b4ace2207da"
   },
   "outputs": [],
   "source": [
    "def sigmoid(x):\n",
    "    return 1.0/(1.0 + np.exp(-x))\n",
    "\n",
    "def sigmoid_prime(x):\n",
    "    return sigmoid(x)*(1.0-sigmoid(x))\n",
    "\n",
    "def tanh(x):\n",
    "    return np.tanh(x)\n",
    "\n",
    "def tanh_prime(x):\n",
    "    return 1.0 - x**2"
   ]
  },
  {
   "cell_type": "markdown",
   "metadata": {
    "_uuid": "6f014532f63f98e9886c9bc90acca9514c7e128e"
   },
   "source": [
    " ## Neural Network Implementation"
   ]
  },
  {
   "cell_type": "code",
   "execution_count": 4,
   "metadata": {
    "_cell_guid": "b1076dfc-b9ad-4769-8c92-a6c4dae69d19",
    "_uuid": "8f2839f25d086af736a60e9eeb907d3b93b6e0e5"
   },
   "outputs": [],
   "source": [
    "class NeuralNetwork:\n",
    "\n",
    "    def __init__(self, layers, activation='tanh'):\n",
    "        if activation == 'sigmoid':\n",
    "            self.activation = sigmoid\n",
    "            self.activation_prime = sigmoid_prime\n",
    "        elif activation == 'tanh':\n",
    "            self.activation = tanh\n",
    "            self.activation_prime = tanh_prime\n",
    "\n",
    "        self.weights = []\n",
    "        for i in range(1, len(layers) - 1):\n",
    "            r = 2*np.random.random((layers[i-1] + 1, layers[i] + 1)) -1\n",
    "            self.weights.append(r)\n",
    "        r = 2*np.random.random( (layers[i] + 1, layers[i+1])) - 1\n",
    "        self.weights.append(r)\n",
    "\n",
    "    def fit(self, X, y, learning_rate=0.2, epochs=100000):\n",
    "        ones = np.atleast_2d(np.ones(X.shape[0]))\n",
    "        X = np.concatenate((ones.T, X), axis=1)\n",
    "         \n",
    "        for k in range(epochs):\n",
    "            #if k % 10000 == 0: print('epochs:', k)\n",
    "            \n",
    "            i = np.random.randint(X.shape[0])\n",
    "            a = [X[i]]\n",
    "\n",
    "            for l in range(len(self.weights)):\n",
    "                    dot_value = np.dot(a[l], self.weights[l])\n",
    "                    activation = self.activation(dot_value)\n",
    "                    a.append(activation)\n",
    "            # output layer\n",
    "            error = y[i] - a[-1]\n",
    "            deltas = [error * self.activation_prime(a[-1])]\n",
    "\n",
    "            for l in range(len(a) - 2, 0, -1): \n",
    "                deltas.append(deltas[-1].dot(self.weights[l].T)*self.activation_prime(a[l]))\n",
    "\n",
    "            deltas.reverse()\n",
    "            for i in range(len(self.weights)):\n",
    "                layer = np.atleast_2d(a[i])\n",
    "                delta = np.atleast_2d(deltas[i])\n",
    "                self.weights[i] += learning_rate * layer.T.dot(delta)\n",
    "\n",
    "    def predict(self, x): \n",
    "        a = np.concatenate((np.ones(1).T, np.array(x)))\n",
    "        for l in range(0, len(self.weights)):\n",
    "            a = self.activation(np.dot(a, self.weights[l]))\n",
    "        return a\n"
   ]
  },
  {
   "cell_type": "markdown",
   "metadata": {
    "_cell_guid": "79c7e3d0-c299-4dcb-8224-4455121ee9b0",
    "_uuid": "d629ff2d2480ee46fbb7e2d37f6b5fab8052498a"
   },
   "source": [
    "## c)d) Traning and Verifying five boolean function"
   ]
  },
  {
   "cell_type": "code",
   "execution_count": 5,
   "metadata": {
    "_uuid": "576ac77698c4eff36e6145aa6a90fdc6c54cd182"
   },
   "outputs": [
    {
     "name": "stdout",
     "output_type": "stream",
     "text": [
      "Function Name OR\n",
      "[0 0 0] [8.53530309e-06] 0\n",
      "[0 0 1] [0.99690539] 1\n",
      "[0 1 0] [0.99670261] 1\n",
      "[0 1 1] [0.99929396] 1\n",
      "[1 0 0] [0.99685392] 1\n",
      "[1 0 1] [0.9993616] 1\n",
      "[1 1 0] [0.99918864] 1\n",
      "[1 1 1] [0.99951356] 1\n",
      "Function Name AND\n",
      "[0 0 0] [0.00298318] 0\n",
      "[0 0 1] [0.01475904] 0\n",
      "[0 1 0] [0.01242588] 0\n",
      "[0 1 1] [0.04874956] 0\n",
      "[1 0 0] [-0.0007634] 0\n",
      "[1 0 1] [0.00438923] 0\n",
      "[1 1 0] [0.00169663] 0\n",
      "[1 1 1] [0.99315106] 1\n",
      "Function Name XOR\n",
      "[0 0 0] [4.840956e-06] 0\n",
      "[0 0 1] [0.99691208] 1\n",
      "[0 1 0] [0.99677136] 1\n",
      "[0 1 1] [0.01439648] 0\n",
      "[1 0 0] [0.99335994] 1\n",
      "[1 0 1] [0.00014936] 0\n",
      "[1 1 0] [0.00024112] 0\n",
      "[1 1 1] [0.99563717] 1\n",
      "Function Name NAND\n",
      "[0 0 0] [0.99818924] 1\n",
      "[0 0 1] [0.99952417] 1\n",
      "[0 1 0] [0.99947265] 1\n",
      "[0 1 1] [0.99662379] 1\n",
      "[1 0 0] [0.99994149] 1\n",
      "[1 0 1] [0.99885759] 1\n",
      "[1 1 0] [0.99865236] 1\n",
      "[1 1 1] [1.18748875e-06] 0\n",
      "Function Name NOR\n",
      "[0 0 0] [0.99335921] 1\n",
      "[0 0 1] [0.0006424] 0\n",
      "[0 1 0] [0.00065505] 0\n",
      "[0 1 1] [-0.0055998] 0\n",
      "[1 0 0] [0.00032389] 0\n",
      "[1 0 1] [-0.00053407] 0\n",
      "[1 1 0] [-0.00013332] 0\n",
      "[1 1 1] [0.00104598] 0\n"
     ]
    }
   ],
   "source": [
    "X=np.array(truth_table)\n",
    "nn = NeuralNetwork([3,3,1])\n",
    "for i in range(len(y_list)):\n",
    "    nn.fit(X, y_list[i])\n",
    "    print(\"Function Name\",fn_list[i])\n",
    "    for e in X:\n",
    "        p=nn.predict(e)\n",
    "        if p > 0.50:\n",
    "            print(e,p,1)\n",
    "        else:\n",
    "            print(e,p,0)\n",
    "        \n",
    "        \n",
    "        \n",
    "    \n",
    "    \n",
    "    "
   ]
  },
  {
   "cell_type": "code",
   "execution_count": null,
   "metadata": {
    "_uuid": "ab035e1e64abf063b60cbf45cc79489fe3bec47a"
   },
   "outputs": [],
   "source": []
  },
  {
   "cell_type": "code",
   "execution_count": null,
   "metadata": {
    "_uuid": "05f81ad3890488813041a11a2535ef0f11085e9c"
   },
   "outputs": [],
   "source": []
  }
 ],
 "metadata": {
  "kernelspec": {
   "display_name": "Python 3",
   "language": "python",
   "name": "python3"
  },
  "language_info": {
   "codemirror_mode": {
    "name": "ipython",
    "version": 3
   },
   "file_extension": ".py",
   "mimetype": "text/x-python",
   "name": "python",
   "nbconvert_exporter": "python",
   "pygments_lexer": "ipython3",
   "version": "3.6.6"
  }
 },
 "nbformat": 4,
 "nbformat_minor": 1
}
